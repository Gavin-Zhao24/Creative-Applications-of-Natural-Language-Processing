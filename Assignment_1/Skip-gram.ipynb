{
  "cells": [
    {
      "cell_type": "code",
      "execution_count": null,
      "id": "164d59ba",
      "metadata": {
        "id": "164d59ba"
      },
      "outputs": [],
      "source": [
        "from collections import Counter\n",
        "import numpy as np\n",
        "import torch\n",
        "import spacy\n",
        "import matplotlib.pyplot as plt\n",
        "import seaborn as sns\n",
        "import pandas as pd\n",
        "from sklearn.model_selection import train_test_split"
      ]
    },
    {
      "cell_type": "code",
      "execution_count": null,
      "id": "6335bf81",
      "metadata": {
        "id": "6335bf81"
      },
      "outputs": [],
      "source": [
        "# prepare text using the spacy english pipeline (see https://spacy.io/models/en)\n",
        "# we'll use it to lemmatize the text, and determine which part of speech each\n",
        "# lemmatize edits words to become the 'root' word - e.g. holds -> hold;  rubs->rub\n",
        "# part of speech indicates if the item is a verb, nooun, punctuation, space and so on.\n",
        "# make sure that the text sent to spacy doesn't end with a period immediately followed by a newline,\n",
        "# instead, make sure there is a space between the period and the newline, so that the period \n",
        "# is correctly identified as punctuation.\n",
        "\n",
        "def prepare_texts(text):    \n",
        "    # Get a callable object from spaCy that processes the text - lemmatizes and determines part of speech\n",
        "\n",
        "    nlp = spacy.load(\"en_core_web_sm\")\n",
        "    \n",
        "    # lemmatize the text, get part of speech, and remove spaces and punctuation\n",
        "    \n",
        "    lemmas = [tok.lemma_ for tok in nlp(text) if tok.pos_ not in [\"PUNCT\", \"SPACE\"]]\n",
        "    \n",
        "    # count the number of occurences of each word in the vocabulary\n",
        "    \n",
        "    freqs = Counter() \n",
        "    for w in lemmas:\n",
        "        freqs[w] += 1\n",
        "        \n",
        "    vocab = list(freqs.items())  # List of (word, occurrence)\n",
        "    \n",
        "    vocab = sorted(vocab, key=lambda item: item[1], reverse=True)  # Sort by decreasing frequency\n",
        "    print(vocab)\n",
        "    \n",
        "    # Create word->index dictionary and index->word dictionary\n",
        "    \n",
        "    v2i = {v[0]:i for i,v in enumerate(vocab)}\n",
        "    i2v = {i:v[0] for i,v in enumerate(vocab)}\n",
        "    \n",
        "    return lemmas, v2i, i2v"
      ]
    },
    {
      "cell_type": "code",
      "source": [
        "fileObject = open(\"SmallSimpleCorpus.txt\", \"r\")\n",
        "data = fileObject.read()\n",
        "print(data)"
      ],
      "metadata": {
        "colab": {
          "base_uri": "https://localhost:8080/"
        },
        "id": "BPYS-3JFHB_9",
        "outputId": "b69e4427-2691-4a54-cdb5-a8e117bea80b"
      },
      "id": "BPYS-3JFHB_9",
      "execution_count": null,
      "outputs": [
        {
          "output_type": "stream",
          "name": "stdout",
          "text": [
            "I hold a dog.  I hold the dog.  I hold a cat.  I hold the cat.  I rub a dog.  I rub the dog.  I rub a cat.  I rub the cat.  I hold and rub a dog.  I hold and rub the dog.  I hold and rub a cat.  I hold and rub the cat.  I hold a dog and cat.  I hold the dog and cat.  I hold a cat and dog.  I hold the cat and dog.  I rub a dog and cat.  I rub the dog and cat.  I rub a cat and dog.  I rub the cat and dog.  I hold and rub a dog .  I hold and rub a cat.  I hold and rub the dog.  I hold and rub the cat .  I can hold a dog.  I can hold the dog.  I can hold a cat.  I can hold the cat.  I can rub a dog.  I can rub the dog.  I can rub a cat.  I can rub the cat.  I can hold a dog and cat.  I can hold the dog and cat.  I can hold a cat and dog.  I can hold the cat and dog.  I can hold and rub a dog.  I can hold and rub the dog.  I can hold and rub a cat.  I can hold and rub the cat.  I can rub a dog and cat.  I can rub the dog and cat.  I can rub a cat and dog.  I can rub the cat and dog.  I can rub and hold a cat.  I can rub and hold a dog.  I can rub and hold the cat.  I can rub and hold the dog.  She holds a dog.  She holds the dog.  She holds a cat.  She holds the cat.  She rubs a dog.  She rubs the dog.  She rubs a cat.  She rubs the cat.  She holds and rubs a dog.  She holds and rubs the dog.  She holds and rubs a cat.  She holds and rubs the cat.  She rubs and holds a dog .  She rubs and holds a cat.  She rubs and holds the dog.  She rubs and holds the cat.  She holds a dog and cat.  She holds the dog and cat.  She holds a cat and dog.  She holds the cat and dog.  She rubs a dog and cat.  She rubs the dog and cat.  She rubs a cat and dog.  She rubs the cat and dog.  She can hold a dog.  She can hold the dog.  She can hold a cat.  She can hold the cat.  She can rub a dog.  She can rub the dog.  She can rub a cat.  She can rub the cat.  She can hold a dog and cat.  She can hold the dog and cat.  She can hold a cat and dog.  She can hold the cat and dog.  She can hold and rub a dog.  She can hold and rub the dog.  She can hold and rub a cat.  She can hold and rub the cat.  She can rub a dog and cat.  She can rub the dog and cat.  She can rub a cat and dog.  She can rub the cat and dog.  She can rub and hold a cat.  She can rub and hold a dog.  She can rub and hold the cat.  She can rub and hold the dog.  He holds a dog.  He holds the dog.  He holds a cat.  He holds the cat.  He rubs a dog.  He rubs the dog.  He rubs a cat.  He rubs the cat.  He holds and rubs a dog.  He holds and rubs the dog.  He holds and rubs a cat.  He holds and rubs the cat.  He rubs and holds a dog .  He rubs and holds a cat.  He rubs and holds the dog.  He rubs and holds the cat .  He holds a dog and cat.  He holds the dog and cat.  He holds a cat and dog.  He holds the cat and dog.  He rubs a dog and cat.  He rubs the dog and cat.  He rubs a cat and dog.  He rubs the cat and dog.  He can hold a dog.  He can hold the dog.  He can hold a cat.  He can hold the cat.  He can rub a dog.  He can rub the dog.  He can rub a cat.  He can rub the cat.  He can hold a dog and cat.  He can hold the dog and cat.  He can hold a cat and dog.  He can hold the cat and dog.  He can hold and rub a dog.  He can hold and rub the dog.  He can hold and rub a cat.  He can hold and rub the cat.  He can rub a dog and cat.  He can rub the dog and cat.  He can rub a cat and dog.  He can rub the cat and dog.  He can rub and hold a cat.  He can rub and hold a dog.  He can rub and hold the cat.  He can rub and hold the dog.  He and I hold a dog.  He and I hold the dog.  He and I hold a cat.  He and I hold the cat.  He and I rub a dog.  He and I rub the dog.  He and I rub a cat.  He and I rub the cat.  He and I can hold a dog.  He and I can hold the dog.  He and I can hold a cat.  He and I can hold the cat.  He and I can rub a dog.  He and I can rub the dog.  He and I can rub a cat.  He and I can rub the cat.  She and I hold a dog.  She and I hold the dog.  She and I hold a cat.  She and I hold the cat.  She and I rub a dog.  She and I rub the dog.  She and I rub a cat.  She and I rub the cat.  She and I can hold a dog.  She and I can hold the dog.  She and I can hold a cat.  She and I can hold the cat.  She and I can rub a dog.  She and I can rub the dog.  She and I can rub a cat.  She and I can rub the cat.  She and he hold a dog.  She and he hold the dog.  She and he hold a cat.  She and he hold the cat.  She and he rub a dog.  She and he rub the dog.  She and he rub a cat.  She and he rub the cat.  She and he can hold a dog.  She and he can hold the dog.  She and he can hold a cat.  She and he can hold the cat.  She and he can rub a dog.  She and he can rub the dog.  She and he can rub a cat.  She and he can rub the cat.  He and she hold a dog.  He and she hold the dog.  He and she hold a cat.  He and she hold the cat.  He and she rub a dog.  He and she rub the dog.  He and she rub a cat.  He and she rub the cat.  He and she can hold a dog.  He and she can hold the dog.  He and she can hold a cat.  He and she can hold the cat.  He and she can rub a dog.  He and she can rub the dog.  He and she can rub a cat.  He and she can rub the cat.\n",
            "\n"
          ]
        }
      ]
    },
    {
      "cell_type": "code",
      "source": [
        "lemmas, v2i, i2v= prepare_texts(data)"
      ],
      "metadata": {
        "colab": {
          "base_uri": "https://localhost:8080/"
        },
        "id": "_y3MRIPnsCdA",
        "outputId": "aff03914-738f-4f96-c757-43e3473949e0"
      },
      "id": "_y3MRIPnsCdA",
      "execution_count": null,
      "outputs": [
        {
          "output_type": "stream",
          "name": "stdout",
          "text": [
            "[('and', 160), ('hold', 128), ('dog', 128), ('cat', 128), ('rub', 128), ('a', 104), ('the', 104), ('can', 104), ('she', 96), ('he', 96), ('I', 80)]\n"
          ]
        }
      ]
    },
    {
      "cell_type": "markdown",
      "id": "6b38e8c2",
      "metadata": {
        "id": "6b38e8c2"
      },
      "source": [
        "#### This following function walks through each word, and looks at a window (of size 'window') of words and creates input/output prediction pairs, predicting each of the words surrounding the current word from the current word.  So here we say that we are 'predicting the context' from the word"
      ]
    },
    {
      "cell_type": "code",
      "source": [
        "lemmas = []\n",
        "for line in data.split('.  '):\n",
        "  temp1, temp2, temp3 = prepare_texts(line)\n",
        "  lemmas.append(temp1)"
      ],
      "metadata": {
        "id": "wq9R1q6hKSEi"
      },
      "id": "wq9R1q6hKSEi",
      "execution_count": null,
      "outputs": []
    },
    {
      "cell_type": "code",
      "execution_count": null,
      "id": "719dc852",
      "metadata": {
        "id": "719dc852"
      },
      "outputs": [],
      "source": [
        "def tokenize_and_preprocess_text(textlist, v2i, window):\n",
        "\n",
        "    # Predict context with word. Sample the context within a window size.\n",
        "    X, Y = [], []  # is the list of training/test samples\n",
        "    \n",
        "    # TO DO - create all the X,Y pairs\n",
        "    for word in v2i.keys():\n",
        "      for line in textlist:\n",
        "        if word in line:\n",
        "          if len(line) < window:\n",
        "            for contxt in line:\n",
        "              if contxt != word:\n",
        "                X.append(v2i[word])\n",
        "                Y.append(v2i[contxt])\n",
        "          else:\n",
        "            for i in range(len(line)-window):\n",
        "              shift_window = line[i:i+window]\n",
        "              if word in shift_window:\n",
        "                for contxt in shift_window:\n",
        "                  if contxt != word:\n",
        "                    X.append(v2i[word])\n",
        "                    Y.append(v2i[contxt])\n",
        "        else:\n",
        "          continue\n",
        "    return X, Y"
      ]
    },
    {
      "cell_type": "code",
      "source": [
        "X, Y= tokenize_and_preprocess_text(lemmas, v2i, 3)"
      ],
      "metadata": {
        "id": "n3hCtPJNczKr"
      },
      "id": "n3hCtPJNczKr",
      "execution_count": null,
      "outputs": []
    },
    {
      "cell_type": "code",
      "source": [
        "X[0:10]"
      ],
      "metadata": {
        "colab": {
          "base_uri": "https://localhost:8080/"
        },
        "id": "0ApCegaxdauY",
        "outputId": "03a5a4f3-4e46-45ca-ec76-0e8351c500bd"
      },
      "id": "0ApCegaxdauY",
      "execution_count": null,
      "outputs": [
        {
          "output_type": "execute_result",
          "data": {
            "text/plain": [
              "[0, 0, 0, 0, 0, 0, 0, 0, 0, 0]"
            ]
          },
          "metadata": {},
          "execution_count": 8
        }
      ]
    },
    {
      "cell_type": "code",
      "source": [
        "Y[0:10]"
      ],
      "metadata": {
        "colab": {
          "base_uri": "https://localhost:8080/"
        },
        "id": "uMP1hEgfdfjY",
        "outputId": "abf4a6f0-a1cf-4dd6-af91-66b3dfa545eb"
      },
      "id": "uMP1hEgfdfjY",
      "execution_count": null,
      "outputs": [
        {
          "output_type": "execute_result",
          "data": {
            "text/plain": [
              "[10, 1, 1, 4, 4, 5, 10, 1, 1, 4]"
            ]
          },
          "metadata": {},
          "execution_count": 9
        }
      ]
    },
    {
      "cell_type": "markdown",
      "id": "408bd566",
      "metadata": {
        "id": "408bd566"
      },
      "source": [
        "## Define Model that will be trained to produce word vectors"
      ]
    },
    {
      "cell_type": "code",
      "execution_count": null,
      "id": "1029c79e",
      "metadata": {
        "id": "1029c79e"
      },
      "outputs": [],
      "source": [
        "class Word2vecModel(torch.nn.Module):\n",
        "    def __init__(self, vocab_size, embedding_size):\n",
        "        super().__init__()\n",
        "        # initialize word vectors to random numbers \n",
        "        self.vocab_size = vocab_size\n",
        "        self.embedding_size = embedding_size\n",
        "        self.embedding = torch.nn.Embedding(vocab_size, embedding_size)\n",
        "        self.fc = torch.nn.Linear(embedding_size, vocab_size)\n",
        "        \n",
        "    def forward(self, x):\n",
        "        \"\"\"\n",
        "        x: torch.tensor of shape (bsz), bsz is the batch size\n",
        "        \"\"\"\n",
        "        e = self.embedding(x)\n",
        "        logits = self.fc(e)\n",
        "        return logits, e"
      ]
    },
    {
      "cell_type": "markdown",
      "id": "cc3f6d07",
      "metadata": {
        "id": "cc3f6d07"
      },
      "source": [
        "#### The training function - give it the text and it does the rest"
      ]
    },
    {
      "cell_type": "code",
      "execution_count": null,
      "id": "994f2e82",
      "metadata": {
        "id": "994f2e82"
      },
      "outputs": [],
      "source": [
        "def train_word2vec(textlist, window=3, embedding_size=2):\n",
        "    # Set up a model with Skip-gram (predict context with word)\n",
        "    # textlist: a list of the strings\n",
        "    \n",
        "    # Create the training data\n",
        "    X, Y= tokenize_and_preprocess_text(textlist, v2i, window)\n",
        "\n",
        "    \n",
        "    # Split the training data\n",
        "    X_train, X_val, y_train, y_val = train_test_split(X, Y, test_size=0.2, random_state=1)\n",
        "\n",
        "    \n",
        "    # instantiate the network & set up the optimizer\n",
        "    num_epoch = 50\n",
        "    learning_rate = 0.001\n",
        "\n",
        "    loss_func = torch.nn.CrossEntropyLoss()\n",
        "    network = Word2vecModel(vocab_size=11, embedding_size=embedding_size)\n",
        "    optimizer = torch.optim.Adam(network.parameters(), lr =learning_rate)\n",
        "\n",
        "    epoches, train_loss, val_loss = [], [], []\n",
        "    # training loop\n",
        "    n = 0\n",
        "    for epoch in range(num_epoch):\n",
        "      total_train_loss = 0\n",
        "      total_val_loss = 0\n",
        "      for word, target in zip(torch.utils.data.DataLoader(X_train, batch_size=4), torch.utils.data.DataLoader(y_train, batch_size=4)):\n",
        "        log_prob,embed = network(word)\n",
        "        loss = loss_func(log_prob, target)\n",
        "        loss.backward()\n",
        "        optimizer.step()\n",
        "        optimizer.zero_grad()\n",
        "\n",
        "        total_train_loss+=loss.item()\n",
        "      \n",
        "      n += 1\n",
        "      epoches.append(n)\n",
        "      total_train_loss/=len(torch.utils.data.DataLoader(X_train, batch_size=4))\n",
        "      train_loss.append(total_train_loss)\n",
        "\n",
        "      for word, target in zip(torch.utils.data.DataLoader(X_val, batch_size=4), torch.utils.data.DataLoader(y_val, batch_size=4)):\n",
        "        log_prob, embed= network(word)\n",
        "        loss = loss_func(log_prob, target)\n",
        "        total_val_loss += loss.item()\n",
        "      total_val_loss/=len(torch.utils.data.DataLoader(X_val, batch_size=4))\n",
        "      val_loss.append(total_val_loss)\n",
        "    plt.title(\"Training Curve\")\n",
        "    plt.plot(epoches, train_loss, label=\"Train\")\n",
        "    plt.plot(epoches, val_loss, label=\"Validation\")\n",
        "    plt.xlabel(\"Epoch\")\n",
        "    plt.ylabel(\"Training Loss\")\n",
        "    plt.legend(loc='best')\n",
        "    plt.show()\n",
        "\n",
        "    return network"
      ]
    },
    {
      "cell_type": "markdown",
      "id": "d319523d",
      "metadata": {
        "id": "d319523d"
      },
      "source": [
        "### Run Training and retrieve embedding"
      ]
    },
    {
      "cell_type": "code",
      "execution_count": null,
      "id": "751b4c16",
      "metadata": {
        "id": "751b4c16",
        "colab": {
          "base_uri": "https://localhost:8080/",
          "height": 295
        },
        "outputId": "104fd1ee-c91f-4147-e09a-d17071a1ed0e"
      },
      "outputs": [
        {
          "output_type": "display_data",
          "data": {
            "text/plain": [
              "<Figure size 432x288 with 1 Axes>"
            ],
            "image/png": "[encoded data removed]"
          },
          "metadata": {
            "needs_background": "light"
          }
        }
      ],
      "source": [
        "network = train_word2vec(lemmas)\n",
        "embedding = network.embedding"
      ]
    },
    {
      "cell_type": "code",
      "source": [
        "df = pd.DataFrame(embedding.weight.data.detach().numpy(), columns=[\"X\", \"Y\"])\n",
        "df['word'] = list(v2i.keys())\n",
        "df.sort_values(by=['X', 'Y'])"
      ],
      "metadata": {
        "colab": {
          "base_uri": "https://localhost:8080/",
          "height": 394
        },
        "id": "f7A5EyjHfXKs",
        "outputId": "c4a30370-7355-4d24-ca5c-fd5047447ba4"
      },
      "id": "f7A5EyjHfXKs",
      "execution_count": null,
      "outputs": [
        {
          "output_type": "execute_result",
          "data": {
            "text/plain": [
              "           X         Y  word\n",
              "0  -0.579545 -0.111654   and\n",
              "7  -0.444217 -0.241245   can\n",
              "5  -0.185433  3.124910     a\n",
              "6  -0.086499  3.227481   the\n",
              "9   0.792812  0.639501    he\n",
              "10  0.927650  0.607660     I\n",
              "8   0.957953  0.651100   she\n",
              "3   1.072356 -0.816868   cat\n",
              "2   1.094319 -0.912986   dog\n",
              "1   1.121425 -0.075383  hold\n",
              "4   1.284389 -0.069723   rub"
            ],
            "text/html": [
              "\n",
              "  <div id=\"df-cf28db0d-573e-4bc5-84cb-6c79eeb6fba8\">\n",
              "    <div class=\"colab-df-container\">\n",
              "      <div>\n",
              "<style scoped>\n",
              "    .dataframe tbody tr th:only-of-type {\n",
              "        vertical-align: middle;\n",
              "    }\n",
              "\n",
              "    .dataframe tbody tr th {\n",
              "        vertical-align: top;\n",
              "    }\n",
              "\n",
              "    .dataframe thead th {\n",
              "        text-align: right;\n",
              "    }\n",
              "</style>\n",
              "<table border=\"1\" class=\"dataframe\">\n",
              "  <thead>\n",
              "    <tr style=\"text-align: right;\">\n",
              "      <th></th>\n",
              "      <th>X</th>\n",
              "      <th>Y</th>\n",
              "      <th>word</th>\n",
              "    </tr>\n",
              "  </thead>\n",
              "  <tbody>\n",
              "    <tr>\n",
              "      <th>0</th>\n",
              "      <td>-0.579545</td>\n",
              "      <td>-0.111654</td>\n",
              "      <td>and</td>\n",
              "    </tr>\n",
              "    <tr>\n",
              "      <th>7</th>\n",
              "      <td>-0.444217</td>\n",
              "      <td>-0.241245</td>\n",
              "      <td>can</td>\n",
              "    </tr>\n",
              "    <tr>\n",
              "      <th>5</th>\n",
              "      <td>-0.185433</td>\n",
              "      <td>3.124910</td>\n",
              "      <td>a</td>\n",
              "    </tr>\n",
              "    <tr>\n",
              "      <th>6</th>\n",
              "      <td>-0.086499</td>\n",
              "      <td>3.227481</td>\n",
              "      <td>the</td>\n",
              "    </tr>\n",
              "    <tr>\n",
              "      <th>9</th>\n",
              "      <td>0.792812</td>\n",
              "      <td>0.639501</td>\n",
              "      <td>he</td>\n",
              "    </tr>\n",
              "    <tr>\n",
              "      <th>10</th>\n",
              "      <td>0.927650</td>\n",
              "      <td>0.607660</td>\n",
              "      <td>I</td>\n",
              "    </tr>\n",
              "    <tr>\n",
              "      <th>8</th>\n",
              "      <td>0.957953</td>\n",
              "      <td>0.651100</td>\n",
              "      <td>she</td>\n",
              "    </tr>\n",
              "    <tr>\n",
              "      <th>3</th>\n",
              "      <td>1.072356</td>\n",
              "      <td>-0.816868</td>\n",
              "      <td>cat</td>\n",
              "    </tr>\n",
              "    <tr>\n",
              "      <th>2</th>\n",
              "      <td>1.094319</td>\n",
              "      <td>-0.912986</td>\n",
              "      <td>dog</td>\n",
              "    </tr>\n",
              "    <tr>\n",
              "      <th>1</th>\n",
              "      <td>1.121425</td>\n",
              "      <td>-0.075383</td>\n",
              "      <td>hold</td>\n",
              "    </tr>\n",
              "    <tr>\n",
              "      <th>4</th>\n",
              "      <td>1.284389</td>\n",
              "      <td>-0.069723</td>\n",
              "      <td>rub</td>\n",
              "    </tr>\n",
              "  </tbody>\n",
              "</table>\n",
              "</div>\n",
              "      <button class=\"colab-df-convert\" onclick=\"convertToInteractive('df-cf28db0d-573e-4bc5-84cb-6c79eeb6fba8')\"\n",
              "              title=\"Convert this dataframe to an interactive table.\"\n",
              "              style=\"display:none;\">\n",
              "        \n",
              "  <svg xmlns=\"http://www.w3.org/2000/svg\" height=\"24px\"viewBox=\"0 0 24 24\"\n",
              "       width=\"24px\">\n",
              "    <path d=\"M0 0h24v24H0V0z\" fill=\"none\"/>\n",
              "    <path d=\"M18.56 5.44l.94 2.06.94-2.06 2.06-.94-2.06-.94-.94-2.06-.94 2.06-2.06.94zm-11 1L8.5 8.5l.94-2.06 2.06-.94-2.06-.94L8.5 2.5l-.94 2.06-2.06.94zm10 10l.94 2.06.94-2.06 2.06-.94-2.06-.94-.94-2.06-.94 2.06-2.06.94z\"/><path d=\"M17.41 7.96l-1.37-1.37c-.4-.4-.92-.59-1.43-.59-.52 0-1.04.2-1.43.59L10.3 9.45l-7.72 7.72c-.78.78-.78 2.05 0 2.83L4 21.41c.39.39.9.59 1.41.59.51 0 1.02-.2 1.41-.59l7.78-7.78 2.81-2.81c.8-.78.8-2.07 0-2.86zM5.41 20L4 18.59l7.72-7.72 1.47 1.35L5.41 20z\"/>\n",
              "  </svg>\n",
              "      </button>\n",
              "      \n",
              "  <style>\n",
              "    .colab-df-container {\n",
              "      display:flex;\n",
              "      flex-wrap:wrap;\n",
              "      gap: 12px;\n",
              "    }\n",
              "\n",
              "    .colab-df-convert {\n",
              "      background-color: #E8F0FE;\n",
              "      border: none;\n",
              "      border-radius: 50%;\n",
              "      cursor: pointer;\n",
              "      display: none;\n",
              "      fill: #1967D2;\n",
              "      height: 32px;\n",
              "      padding: 0 0 0 0;\n",
              "      width: 32px;\n",
              "    }\n",
              "\n",
              "    .colab-df-convert:hover {\n",
              "      background-color: #E2EBFA;\n",
              "      box-shadow: 0px 1px 2px rgba(60, 64, 67, 0.3), 0px 1px 3px 1px rgba(60, 64, 67, 0.15);\n",
              "      fill: #174EA6;\n",
              "    }\n",
              "\n",
              "    [theme=dark] .colab-df-convert {\n",
              "      background-color: #3B4455;\n",
              "      fill: #D2E3FC;\n",
              "    }\n",
              "\n",
              "    [theme=dark] .colab-df-convert:hover {\n",
              "      background-color: #434B5C;\n",
              "      box-shadow: 0px 1px 3px 1px rgba(0, 0, 0, 0.15);\n",
              "      filter: drop-shadow(0px 1px 2px rgba(0, 0, 0, 0.3));\n",
              "      fill: #FFFFFF;\n",
              "    }\n",
              "  </style>\n",
              "\n",
              "      <script>\n",
              "        const buttonEl =\n",
              "          document.querySelector('#df-cf28db0d-573e-4bc5-84cb-6c79eeb6fba8 button.colab-df-convert');\n",
              "        buttonEl.style.display =\n",
              "          google.colab.kernel.accessAllowed ? 'block' : 'none';\n",
              "\n",
              "        async function convertToInteractive(key) {\n",
              "          const element = document.querySelector('#df-cf28db0d-573e-4bc5-84cb-6c79eeb6fba8');\n",
              "          const dataTable =\n",
              "            await google.colab.kernel.invokeFunction('convertToInteractive',\n",
              "                                                     [key], {});\n",
              "          if (!dataTable) return;\n",
              "\n",
              "          const docLinkHtml = 'Like what you see? Visit the ' +\n",
              "            '<a target=\"_blank\" href=https://colab.research.google.com/notebooks/data_table.ipynb>data table notebook</a>'\n",
              "            + ' to learn more about interactive tables.';\n",
              "          element.innerHTML = '';\n",
              "          dataTable['output_type'] = 'display_data';\n",
              "          await google.colab.output.renderOutput(dataTable, element);\n",
              "          const docLink = document.createElement('div');\n",
              "          docLink.innerHTML = docLinkHtml;\n",
              "          element.appendChild(docLink);\n",
              "        }\n",
              "      </script>\n",
              "    </div>\n",
              "  </div>\n",
              "  "
            ]
          },
          "metadata": {},
          "execution_count": 26
        }
      ]
    },
    {
      "cell_type": "markdown",
      "id": "7ac1b7b6",
      "metadata": {
        "id": "7ac1b7b6"
      },
      "source": [
        "#### Evaluate some properties of the word embedding"
      ]
    },
    {
      "cell_type": "code",
      "execution_count": null,
      "id": "8aecc16c",
      "metadata": {
        "id": "8aecc16c",
        "colab": {
          "base_uri": "https://localhost:8080/",
          "height": 282
        },
        "outputId": "31913be2-fac2-45d3-cd04-849a062b94ed"
      },
      "outputs": [
        {
          "output_type": "display_data",
          "data": {
            "text/plain": [
              "<Figure size 432x288 with 1 Axes>"
            ],
            "image/png": "[encoded data removed]"
          },
          "metadata": {
            "needs_background": "light"
          }
        }
      ],
      "source": [
        "def visualize_embedding(embedding, most_frequent_from=0, most_frequent_to=40):\n",
        "    assert embedding.shape[1] == 2, \"This only supports visualizing 2-d embeddings!\"\n",
        "    \n",
        "    df = pd.DataFrame(embedding, columns=['X', 'Y'])\n",
        "    sns.scatterplot(data=df, x='X', y='Y')\n",
        "    for i in range(df.shape[0]):\n",
        "      plt.text(x=df.X[i]+0.05,y=df.Y[i]+0.05,s=list(v2i.keys())[i], fontdict=dict(color='black', size=12))\n",
        "    \n",
        "visualize_embedding(embedding.weight.data.detach().numpy(), most_frequent_from=0, most_frequent_to=11)"
      ]
    }
  ],
  "metadata": {
    "kernelspec": {
      "display_name": "Python 3 (ipykernel)",
      "language": "python",
      "name": "python3"
    },
    "language_info": {
      "codemirror_mode": {
        "name": "ipython",
        "version": 3
      },
      "file_extension": ".py",
      "mimetype": "text/x-python",
      "name": "python",
      "nbconvert_exporter": "python",
      "pygments_lexer": "ipython3",
      "version": "3.8.12"
    },
    "colab": {
      "provenance": [],
      "toc_visible": true
    }
  },
  "nbformat": 4,
  "nbformat_minor": 5
}