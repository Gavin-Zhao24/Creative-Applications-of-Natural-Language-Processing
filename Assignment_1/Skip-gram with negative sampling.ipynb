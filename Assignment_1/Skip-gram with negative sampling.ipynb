{
  "cells": [
    {
      "cell_type": "code",
      "execution_count": null,
      "id": "dca90ff2",
      "metadata": {
        "id": "dca90ff2"
      },
      "outputs": [],
      "source": [
        "%matplotlib inline\n",
        "import matplotlib.pyplot as plt\n",
        "from collections import Counter\n",
        "import numpy as np\n",
        "from nltk.tokenize import sent_tokenize\n",
        "import time\n",
        "import pandas as pd\n",
        "import torch\n",
        "import seaborn as sns\n",
        "import spacy\n",
        "from pathlib import Path\n",
        "from sklearn.model_selection import train_test_split\n",
        "import torch.nn.functional as F\n",
        "import random\n",
        "import nltk\n",
        "nltk.download('punkt')\n"
      ]
    },
    {
      "cell_type": "code",
      "execution_count": null,
      "id": "3e4a260a",
      "metadata": {
        "id": "3e4a260a"
      },
      "outputs": [],
      "source": [
        "# prepare text using the both the nltk sentence tokenizer (https://www.nltk.org/api/nltk.tokenize.html)\n",
        "# AND the spacy english pipeline (see https://spacy.io/models/en)\n",
        "\n",
        "\n",
        "def prepare_texts(text, min_frequency=3):\n",
        "    \n",
        "    # Get a callable object from spacy that processes the text - lemmatizes and determines part of speech\n",
        "\n",
        "    nlp = spacy.load(\"en_core_web_sm\")\n",
        "    \n",
        "    # Some text cleaning. Do it by sentence, and eliminate punctuation.\n",
        "    lemmas = []\n",
        "    for sent in sent_tokenize(text):  # sent_tokenize separates the sentences \n",
        "        for tok in nlp(sent):         # nlp processes as in Part III\n",
        "            if tok.pos_ not in [\"PUNCT\", \"SPACE\", \"SYM\", \"NUM\", \"X\"] and tok.lemma_ not in \"[]|.,/?'\\\"+-=\":\n",
        "                lemmas.append(tok.lemma_)\n",
        "    \n",
        "    # Count the frequency of each lemmatized word\n",
        "    freqs = Counter()  # word -> occurrence\n",
        "    for w in lemmas:\n",
        "        freqs[w] += 1\n",
        "        \n",
        "    vocab = list(freqs.items())  # List of (word, occurrence)\n",
        "    vocab = sorted(vocab, key=lambda item: item[1], reverse=True)  # Sort by decreasing frequency\n",
        "    \n",
        "    # per Mikolov, don't use the infrequent words, as there isn't much to learn in that case\n",
        "    \n",
        "    frequent_vocab = list(filter(lambda item: item[1]>=min_frequency, vocab))\n",
        "    \n",
        "    # Create the dictionaries to go from word to index or vice-verse\n",
        "    \n",
        "    w2i = {w[0]:i for i,w in enumerate(frequent_vocab)}\n",
        "    i2w = {i:w[0] for i,w in enumerate(frequent_vocab)}\n",
        "    \n",
        "    # Create an Out Of Vocabulary (oov) token as well\n",
        "    w2i[\"<oov>\"] = len(frequent_vocab)\n",
        "    i2w[len(frequent_vocab)] = \"<oov>\"\n",
        "    \n",
        "    # Set all of the words not included in vocabulary nuas oov\n",
        "    filtered_lemmas = []\n",
        "    for lem in lemmas:\n",
        "        if lem not in w2i:\n",
        "            filtered_lemmas.append(\"<oov>\")\n",
        "        else:\n",
        "            filtered_lemmas.append(lem)\n",
        "    \n",
        "    return filtered_lemmas, w2i, i2w, frequent_vocab"
      ]
    },
    {
      "cell_type": "code",
      "source": [
        "fileObject = open(\"LargerCorpus.txt\", \"r\")\n",
        "data = fileObject.read()\n",
        "print(data)"
      ],
      "metadata": {
        "id": "fvIyPd6S7V6W"
      },
      "id": "fvIyPd6S7V6W",
      "execution_count": null,
      "outputs": []
    },
    {
      "cell_type": "code",
      "source": [
        "lemmas, w2i, i2w, frequent_vocab = prepare_texts(data)"
      ],
      "metadata": {
        "id": "Qwb_sw-Z9Ld0"
      },
      "id": "Qwb_sw-Z9Ld0",
      "execution_count": null,
      "outputs": []
    },
    {
      "cell_type": "code",
      "source": [
        "print(len(lemmas))\n",
        "print(len(w2i))"
      ],
      "metadata": {
        "colab": {
          "base_uri": "https://localhost:8080/"
        },
        "id": "BMlnLSpdTQGq",
        "outputId": "2db1df57-351f-4330-d946-e13f06346290"
      },
      "id": "BMlnLSpdTQGq",
      "execution_count": null,
      "outputs": [
        {
          "output_type": "stream",
          "name": "stdout",
          "text": [
            "62015\n",
            "2560\n"
          ]
        }
      ]
    },
    {
      "cell_type": "code",
      "source": [
        "frequent_vocab[0:20]"
      ],
      "metadata": {
        "colab": {
          "base_uri": "https://localhost:8080/"
        },
        "id": "Hr_xFQW4Tkyl",
        "outputId": "af1d6d2d-51ca-4a53-cdb0-b6e21a034c9d"
      },
      "id": "Hr_xFQW4Tkyl",
      "execution_count": null,
      "outputs": [
        {
          "output_type": "execute_result",
          "data": {
            "text/plain": [
              "[('the', 5047),\n",
              " ('of', 3438),\n",
              " ('be', 2283),\n",
              " ('and', 1943),\n",
              " ('in', 1588),\n",
              " ('to', 1379),\n",
              " ('a', 1226),\n",
              " ('for', 531),\n",
              " ('as', 518),\n",
              " ('by', 493),\n",
              " ('he', 483),\n",
              " ('with', 471),\n",
              " ('coin', 417),\n",
              " ('this', 387),\n",
              " ('on', 377),\n",
              " ('his', 368),\n",
              " ('which', 346),\n",
              " ('at', 334),\n",
              " ('it', 332),\n",
              " ('from', 326)]"
            ]
          },
          "metadata": {},
          "execution_count": 6
        }
      ]
    },
    {
      "cell_type": "markdown",
      "id": "5ac56a6e",
      "metadata": {
        "id": "5ac56a6e"
      },
      "source": [
        "### tokenize_and_preprocess_text creates the training samples for the model. It walks through each word in the corpus, and looks at a window (of size 'window') of words and creates input/output prediction pairs.  We need both positive (in window) samples and negative (out of window) samples."
      ]
    },
    {
      "cell_type": "code",
      "execution_count": null,
      "id": "058ba40e",
      "metadata": {
        "id": "058ba40e"
      },
      "outputs": [],
      "source": [
        "def tokenize_and_preprocess_text(textlist, w2i, window):\n",
        "    \"\"\"\n",
        "    Skip-gram negative sampling: Predict if the target word is in the context.\n",
        "    Uses binary prediction so we need both positive and negative samples\n",
        "    \"\"\"\n",
        "    X, T, Y = [], [], []\n",
        "    nlp = spacy.load(\"en_core_web_sm\")\n",
        "\n",
        "    for sent in sent_tokenize(textlist):  # sent_tokenize separates the sentences \n",
        "      temp = []\n",
        "      for tok in nlp(sent):         # nlp processes as in Part III\n",
        "          if tok.pos_ not in [\"PUNCT\", \"SPACE\", \"SYM\", \"NUM\", \"X\"] and tok.lemma_ not in \"[]|.,/?'\\\"+-=\":\n",
        "            temp.append(tok.lemma_)\n",
        "\n",
        "      lemma_idx = [w2i[word] if word in w2i else w2i[\"<oov>\"] for word in temp]\n",
        "\n",
        "      for idx in range(len(lemma_idx)):\n",
        "          window1 = max(idx - (window-1)//2, 0)\n",
        "          window2 = min(idx + (window-1)//2, len(lemma_idx)-1)\n",
        "\n",
        "          while window1 <= window2:\n",
        "            if window1 == idx:\n",
        "              window1+=1\n",
        "              continue\n",
        "            X.append(lemma_idx[idx])\n",
        "            T.append(lemma_idx[window1])\n",
        "            Y.append(1.0)\n",
        "            X.append(lemma_idx[idx])\n",
        "            T.append(random.choice(list(w2i.values())))\n",
        "            Y.append(0.0)\n",
        "\n",
        "            window1 += 1\n",
        "    return X, T, Y"
      ]
    },
    {
      "cell_type": "code",
      "source": [
        "X, T, Y = tokenize_and_preprocess_text(data, w2i, window=5)"
      ],
      "metadata": {
        "id": "WjerDy4yVn6u"
      },
      "id": "WjerDy4yVn6u",
      "execution_count": null,
      "outputs": []
    },
    {
      "cell_type": "code",
      "source": [
        "print(X[0:10])\n",
        "print(T[0:10])\n",
        "print(Y[0:10])"
      ],
      "metadata": {
        "colab": {
          "base_uri": "https://localhost:8080/"
        },
        "id": "y2YYc-Pd6h6l",
        "outputId": "9a4d6858-9a48-4142-c374-b2d80342a38a"
      },
      "id": "y2YYc-Pd6h6l",
      "execution_count": null,
      "outputs": [
        {
          "output_type": "stream",
          "name": "stdout",
          "text": [
            "[78, 78, 78, 78, 1, 1, 1, 1, 1, 1]\n",
            "[1, 974, 0, 590, 78, 2029, 0, 396, 772, 2405]\n",
            "[1.0, 0.0, 1.0, 0.0, 1.0, 0.0, 1.0, 0.0, 1.0, 0.0]\n"
          ]
        }
      ]
    },
    {
      "cell_type": "markdown",
      "id": "b7b12f50",
      "metadata": {
        "id": "b7b12f50"
      },
      "source": [
        "## Define Model that will be trained to produce word vectors"
      ]
    },
    {
      "cell_type": "code",
      "execution_count": null,
      "id": "91b381df",
      "metadata": {
        "id": "91b381df"
      },
      "outputs": [],
      "source": [
        "class SkipGramNegativeSampling(torch.nn.Module):\n",
        "    def __init__(self, vocab_size, embedding_size):\n",
        "        super().__init__()\n",
        "        \n",
        "        self.embedding_x = torch.nn.Embedding(vocab_size, embedding_size)\n",
        "        self.embedding_t = torch.nn.Embedding(vocab_size, embedding_size)\n",
        "        self.fc = torch.nn.Linear(embedding_size, 1)\n",
        "\n",
        "    def forward(self, x, t):\n",
        "        \n",
        "        embed_x = self.embedding_x(x)\n",
        "        embed_t = self.embedding_t(t)\n",
        "        out = torch.mul(embed_x, embed_t)\n",
        "        out = self.fc(out)\n",
        "        prediction = torch.sigmoid(out).squeeze()\n",
        "        return prediction"
      ]
    },
    {
      "cell_type": "markdown",
      "id": "0af2d1a1",
      "metadata": {
        "id": "0af2d1a1"
      },
      "source": [
        "#### The training function - give it the text and it does the rest"
      ]
    },
    {
      "cell_type": "code",
      "execution_count": null,
      "id": "203a43fe",
      "metadata": {
        "id": "203a43fe"
      },
      "outputs": [],
      "source": [
        "def data_unzip(data):\n",
        "  unzipped_object = zip(*data)\n",
        "  unzipped_list = list(unzipped_object)\n",
        "  return unzipped_list[0], unzipped_list[1]\n",
        "\n",
        "def train_sgns(textlist, window, embedding_size):\n",
        "    # Set up a model with Skip-gram with negative sampling (predict context with word)\n",
        "    # textlist: a list of strings\n",
        "    global w2i, i2w\n",
        "    X, T, Y = tokenize_and_preprocess_text(textlist, w2i, window)\n",
        "    num_epoch = 30\n",
        "    learning_rate = 3e-4\n",
        "    batch_size = 4\n",
        "    # Create Training Data\n",
        "    X_T_train, X_T_test, y_train, y_test = train_test_split(list(zip(X, T)), Y, test_size=0.2, shuffle=True, random_state=24)\n",
        "    X_train, T_train = data_unzip(X_T_train)\n",
        "    X_test, T_test = data_unzip(X_T_test)\n",
        "    X_train_batch = torch.tensor(X_train).split(batch_size)\n",
        "    T_train_batch = torch.tensor(T_train).split(batch_size)\n",
        "    y_train_batch = torch.tensor(y_train).split(batch_size)\n",
        "\n",
        "    X_test = torch.tensor(X_test)\n",
        "    T_test = torch.tensor(T_test)\n",
        "    y_test = torch.tensor(y_test)\n",
        "\n",
        "\n",
        "    # instantiate the network & set up the optimizer\n",
        "    network = SkipGramNegativeSampling(vocab_size=len(w2i), embedding_size=embedding_size)\n",
        "\n",
        "    epoches, train_loss, val_loss = [], [], []\n",
        "    optimizer = torch.optim.Adam(network.parameters(), lr =learning_rate)\n",
        "    loss_func = torch.nn.BCELoss()\n",
        "\n",
        "    for epoch in range(num_epoch):\n",
        "      total_train_loss = 0\n",
        "      total_val_loss = 0\n",
        "\n",
        "      for x, t, target in zip(X_train_batch, T_train_batch, y_train_batch):\n",
        "        prediction = network(x, t)\n",
        "        # if prediction.shape==torch.Size([]):\n",
        "        #   prediction = prediction.unsqueeze(0)\n",
        "        loss = loss_func(prediction.squeeze(), target.squeeze())\n",
        "        \n",
        "        loss.backward()\n",
        "        optimizer.step()\n",
        "        optimizer.zero_grad()\n",
        "\n",
        "        total_train_loss+=loss.item()\n",
        "      \n",
        "      epoches.append(epoch+1)\n",
        "      total_train_loss/=len(X_train_batch)\n",
        "      train_loss.append(total_train_loss)\n",
        "\n",
        "      ### Validation loss\n",
        "\n",
        "      prediction_val = network(X_test, T_test)\n",
        "      total_val_loss = loss_func(prediction_val.squeeze(), y_test.squeeze()).item()\n",
        "      val_loss.append(total_val_loss)\n",
        "      \n",
        "      print(\"----This is epoch {} with training loss {} and validation loss {}----\".format(epoch+1, total_train_loss, total_val_loss))\n",
        "\n",
        "    plt.title(\"Training Curve\")\n",
        "    plt.plot(epoches, train_loss, label=\"Train\")\n",
        "    plt.plot(epoches, val_loss, label=\"Validation\")\n",
        "    plt.xlabel(\"Epoch\")\n",
        "    plt.ylabel(\"Training Loss\")\n",
        "    plt.legend(loc='best')\n",
        "    plt.show()\n",
        "\n",
        "    return network"
      ]
    },
    {
      "cell_type": "markdown",
      "id": "e962cbc3",
      "metadata": {
        "id": "e962cbc3"
      },
      "source": [
        "### Run Training and retrieve embedding"
      ]
    },
    {
      "cell_type": "code",
      "execution_count": null,
      "id": "1b1fd857",
      "metadata": {
        "colab": {
          "base_uri": "https://localhost:8080/",
          "height": 815
        },
        "id": "1b1fd857",
        "outputId": "a0214dc9-b9a1-467f-c2e4-7b6d552db7ac"
      },
      "outputs": [
        {
          "output_type": "stream",
          "name": "stdout",
          "text": [
            "----This is epoch 1 with training loss 0.6704032872791653 and validation loss 0.6273868680000305----\n",
            "----This is epoch 2 with training loss 0.5751466939215178 and validation loss 0.5397635102272034----\n",
            "----This is epoch 3 with training loss 0.5013976665773923 and validation loss 0.48799946904182434----\n",
            "----This is epoch 4 with training loss 0.46061202232658405 and validation loss 0.4601372480392456----\n",
            "----This is epoch 5 with training loss 0.4385358410441447 and validation loss 0.44473254680633545----\n",
            "----This is epoch 6 with training loss 0.4260308899437451 and validation loss 0.4357747733592987----\n",
            "----This is epoch 7 with training loss 0.41853321070095445 and validation loss 0.43030083179473877----\n",
            "----This is epoch 8 with training loss 0.4137949796682666 and validation loss 0.4267953336238861----\n",
            "----This is epoch 9 with training loss 0.4106570398012536 and validation loss 0.4244464039802551----\n",
            "----This is epoch 10 with training loss 0.4084948640368379 and validation loss 0.42280882596969604----\n",
            "----This is epoch 11 with training loss 0.40695180490412497 and validation loss 0.42162567377090454----\n",
            "----This is epoch 12 with training loss 0.4058139552511595 and validation loss 0.4207434356212616----\n",
            "----This is epoch 13 with training loss 0.40495078701911397 and validation loss 0.4200727641582489----\n",
            "----This is epoch 14 with training loss 0.40428199087505107 and validation loss 0.4195616841316223----\n",
            "----This is epoch 15 with training loss 0.4037550418180426 and validation loss 0.4191744923591614----\n",
            "----This is epoch 16 with training loss 0.403334616356347 and validation loss 0.4188898801803589----\n",
            "----This is epoch 17 with training loss 0.40299702707592594 and validation loss 0.4186914265155792----\n",
            "----This is epoch 18 with training loss 0.4027260970141572 and validation loss 0.41856643557548523----\n",
            "----This is epoch 19 with training loss 0.40250944875255157 and validation loss 0.41850465536117554----\n",
            "----This is epoch 20 with training loss 0.4023378167716888 and validation loss 0.4184972047805786----\n",
            "----This is epoch 21 with training loss 0.402202929303989 and validation loss 0.41853758692741394----\n",
            "----This is epoch 22 with training loss 0.40209811549865365 and validation loss 0.41862061619758606----\n",
            "----This is epoch 23 with training loss 0.40201703462148036 and validation loss 0.4187375009059906----\n",
            "----This is epoch 24 with training loss 0.4019526755439866 and validation loss 0.4188863933086395----\n",
            "----This is epoch 25 with training loss 0.40190013035786354 and validation loss 0.41906195878982544----\n",
            "----This is epoch 26 with training loss 0.40185455392043684 and validation loss 0.41927197575569153----\n",
            "----This is epoch 27 with training loss 0.4018107225366857 and validation loss 0.4195209741592407----\n",
            "----This is epoch 28 with training loss 0.4017628735602725 and validation loss 0.41980668902397156----\n",
            "----This is epoch 29 with training loss 0.40170919510082126 and validation loss 0.4201318323612213----\n",
            "----This is epoch 30 with training loss 0.40164691668952685 and validation loss 0.42049142718315125----\n"
          ]
        },
        {
          "output_type": "display_data",
          "data": {
            "text/plain": [
              "<Figure size 432x288 with 1 Axes>"
            ],
            "image/png": "[encoded data removed]"
          },
          "metadata": {
            "needs_background": "light"
          }
        }
      ],
      "source": [
        "# Run the training loop\n",
        "network = train_sgns(data, window=5, embedding_size=8)\n",
        "embedding = network.embedding_t"
      ]
    },
    {
      "cell_type": "markdown",
      "id": "00d41f77",
      "metadata": {
        "id": "00d41f77"
      },
      "source": [
        "### Reduce the Dimensionality of Embeddings and Display"
      ]
    },
    {
      "cell_type": "code",
      "execution_count": null,
      "id": "5f4edc22",
      "metadata": {
        "id": "5f4edc22",
        "colab": {
          "base_uri": "https://localhost:8080/",
          "height": 297
        },
        "outputId": "25cf5b79-2b90-40f0-a4b5-62096fd19940"
      },
      "outputs": [
        {
          "output_type": "stream",
          "name": "stdout",
          "text": [
            "Visualizing the 20 to 65 most frequent words\n"
          ]
        },
        {
          "output_type": "display_data",
          "data": {
            "text/plain": [
              "<Figure size 432x288 with 1 Axes>"
            ],
            "image/png": "[encoded data removed]"
          },
          "metadata": {
            "needs_background": "light"
          }
        }
      ],
      "source": [
        "from sklearn.decomposition import PCA #see https://towardsdatascience.com/pca-using-python-scikit-learn-e653f8989e60\n",
        "\n",
        "def visualize_embedding(embedding, most_frequent_from=20, most_frequent_to=80):\n",
        "    print (\"Visualizing the {} to {} most frequent words\".format(most_frequent_from, most_frequent_to))\n",
        "    \n",
        "    # since the embeddings are ordered from most frequent words to least frequent, \n",
        "    # we can easily select a sub range of the most frequent words:\n",
        "    \n",
        "    selected_words = embedding[most_frequent_from:most_frequent_to, :]\n",
        "    \n",
        "    # The function below will reduce a vector to 2 principle components\n",
        "    \n",
        "    pca = PCA(n_components=2)\n",
        "    \n",
        "    # Transform the selected embeddings to have 2 dimensions\n",
        "    \n",
        "    embeddings = pca.fit_transform(selected_words)\n",
        "    \n",
        "    # Plot the the reduced embeddings - a point and the word itself\n",
        "    df = pd.DataFrame(embeddings, columns=[\"X\", \"Y\"])\n",
        "    df['word'] = list(w2i.keys())[most_frequent_from:most_frequent_to]\n",
        "    sns.scatterplot(data=df, x='X', y='Y')\n",
        "    for i in range(df.shape[0]):\n",
        "      plt.text(x=df.X[i]-0.1,y=df.Y[i]+0.2,s=df.word[i], fontdict=dict(color='black', size=10))\n",
        "    plt.show()\n",
        "    \n",
        "visualize_embedding(embedding.weight.data.detach().numpy(), most_frequent_from=20, most_frequent_to=65)"
      ]
    }
  ],
  "metadata": {
    "kernelspec": {
      "display_name": "Python 3 (ipykernel)",
      "language": "python",
      "name": "python3"
    },
    "language_info": {
      "codemirror_mode": {
        "name": "ipython",
        "version": 3
      },
      "file_extension": ".py",
      "mimetype": "text/x-python",
      "name": "python",
      "nbconvert_exporter": "python",
      "pygments_lexer": "ipython3",
      "version": "3.7.13"
    },
    "colab": {
      "provenance": [],
      "collapsed_sections": [],
      "toc_visible": true
    }
  },
  "nbformat": 4,
  "nbformat_minor": 5
}