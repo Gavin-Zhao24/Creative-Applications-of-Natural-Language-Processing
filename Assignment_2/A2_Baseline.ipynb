{
  "nbformat": 4,
  "nbformat_minor": 0,
  "metadata": {
    "colab": {
      "provenance": [],
      "collapsed_sections": [],
      "toc_visible": true
    },
    "kernelspec": {
      "name": "python3",
      "display_name": "Python 3"
    },
    "language_info": {
      "name": "python"
    }
  },
  "cells": [
    {
      "cell_type": "code",
      "source": [
        "import torch\n",
        "import torchtext\n",
        "from torchtext import data\n",
        "import torch.optim as optim\n",
        "import argparse\n",
        "import os\n",
        "import pandas as pd\n",
        "import numpy as np\n",
        "import matplotlib.pyplot as plt"
      ],
      "metadata": {
        "id": "z96oJ14ciLbM"
      },
      "execution_count": null,
      "outputs": []
    },
    {
      "cell_type": "code",
      "source": [
        "cd /content/drive/MyDrive/ECE1786/A2/"
      ],
      "metadata": {
        "colab": {
          "base_uri": "https://localhost:8080/"
        },
        "id": "ZOjWz2Klzf12",
        "outputId": "b42e656e-49bd-4859-a4aa-c42e5b052d07"
      },
      "execution_count": null,
      "outputs": [
        {
          "output_type": "stream",
          "name": "stdout",
          "text": [
            "/content/drive/MyDrive/ECE1786/A2\n"
          ]
        }
      ]
    },
    {
      "cell_type": "markdown",
      "source": [
        "## 3.1"
      ],
      "metadata": {
        "id": "bF3W7OyDVgPz"
      }
    },
    {
      "cell_type": "code",
      "source": [
        "data = pd.read_csv(\"data.tsv\", sep=\"\\t\")\n",
        "data.head()"
      ],
      "metadata": {
        "colab": {
          "base_uri": "https://localhost:8080/",
          "height": 206
        },
        "id": "_ZytGo0eVlSv",
        "outputId": "748de9a7-3b8c-4f15-c1f4-d8a39f8d3881"
      },
      "execution_count": null,
      "outputs": [
        {
          "output_type": "execute_result",
          "data": {
            "text/plain": [
              "                                                text  label\n",
              "0  smart and alert , thirteen conversations about...      1\n",
              "1  color , musical bounce and warm seas lapping o...      1\n",
              "2  it is not a mass-market entertainment but an u...      1\n",
              "3  a light-hearted french film about the spiritua...      1\n",
              "4  my wife is an actress has its moments in looki...      1"
            ],
            "text/html": [
              "\n",
              "  <div id=\"df-be3b8e5d-637b-44ec-b77f-83e4feb9105b\">\n",
              "    <div class=\"colab-df-container\">\n",
              "      <div>\n",
              "<style scoped>\n",
              "    .dataframe tbody tr th:only-of-type {\n",
              "        vertical-align: middle;\n",
              "    }\n",
              "\n",
              "    .dataframe tbody tr th {\n",
              "        vertical-align: top;\n",
              "    }\n",
              "\n",
              "    .dataframe thead th {\n",
              "        text-align: right;\n",
              "    }\n",
              "</style>\n",
              "<table border=\"1\" class=\"dataframe\">\n",
              "  <thead>\n",
              "    <tr style=\"text-align: right;\">\n",
              "      <th></th>\n",
              "      <th>text</th>\n",
              "      <th>label</th>\n",
              "    </tr>\n",
              "  </thead>\n",
              "  <tbody>\n",
              "    <tr>\n",
              "      <th>0</th>\n",
              "      <td>smart and alert , thirteen conversations about...</td>\n",
              "      <td>1</td>\n",
              "    </tr>\n",
              "    <tr>\n",
              "      <th>1</th>\n",
              "      <td>color , musical bounce and warm seas lapping o...</td>\n",
              "      <td>1</td>\n",
              "    </tr>\n",
              "    <tr>\n",
              "      <th>2</th>\n",
              "      <td>it is not a mass-market entertainment but an u...</td>\n",
              "      <td>1</td>\n",
              "    </tr>\n",
              "    <tr>\n",
              "      <th>3</th>\n",
              "      <td>a light-hearted french film about the spiritua...</td>\n",
              "      <td>1</td>\n",
              "    </tr>\n",
              "    <tr>\n",
              "      <th>4</th>\n",
              "      <td>my wife is an actress has its moments in looki...</td>\n",
              "      <td>1</td>\n",
              "    </tr>\n",
              "  </tbody>\n",
              "</table>\n",
              "</div>\n",
              "      <button class=\"colab-df-convert\" onclick=\"convertToInteractive('df-be3b8e5d-637b-44ec-b77f-83e4feb9105b')\"\n",
              "              title=\"Convert this dataframe to an interactive table.\"\n",
              "              style=\"display:none;\">\n",
              "        \n",
              "  <svg xmlns=\"http://www.w3.org/2000/svg\" height=\"24px\"viewBox=\"0 0 24 24\"\n",
              "       width=\"24px\">\n",
              "    <path d=\"M0 0h24v24H0V0z\" fill=\"none\"/>\n",
              "    <path d=\"M18.56 5.44l.94 2.06.94-2.06 2.06-.94-2.06-.94-.94-2.06-.94 2.06-2.06.94zm-11 1L8.5 8.5l.94-2.06 2.06-.94-2.06-.94L8.5 2.5l-.94 2.06-2.06.94zm10 10l.94 2.06.94-2.06 2.06-.94-2.06-.94-.94-2.06-.94 2.06-2.06.94z\"/><path d=\"M17.41 7.96l-1.37-1.37c-.4-.4-.92-.59-1.43-.59-.52 0-1.04.2-1.43.59L10.3 9.45l-7.72 7.72c-.78.78-.78 2.05 0 2.83L4 21.41c.39.39.9.59 1.41.59.51 0 1.02-.2 1.41-.59l7.78-7.78 2.81-2.81c.8-.78.8-2.07 0-2.86zM5.41 20L4 18.59l7.72-7.72 1.47 1.35L5.41 20z\"/>\n",
              "  </svg>\n",
              "      </button>\n",
              "      \n",
              "  <style>\n",
              "    .colab-df-container {\n",
              "      display:flex;\n",
              "      flex-wrap:wrap;\n",
              "      gap: 12px;\n",
              "    }\n",
              "\n",
              "    .colab-df-convert {\n",
              "      background-color: #E8F0FE;\n",
              "      border: none;\n",
              "      border-radius: 50%;\n",
              "      cursor: pointer;\n",
              "      display: none;\n",
              "      fill: #1967D2;\n",
              "      height: 32px;\n",
              "      padding: 0 0 0 0;\n",
              "      width: 32px;\n",
              "    }\n",
              "\n",
              "    .colab-df-convert:hover {\n",
              "      background-color: #E2EBFA;\n",
              "      box-shadow: 0px 1px 2px rgba(60, 64, 67, 0.3), 0px 1px 3px 1px rgba(60, 64, 67, 0.15);\n",
              "      fill: #174EA6;\n",
              "    }\n",
              "\n",
              "    [theme=dark] .colab-df-convert {\n",
              "      background-color: #3B4455;\n",
              "      fill: #D2E3FC;\n",
              "    }\n",
              "\n",
              "    [theme=dark] .colab-df-convert:hover {\n",
              "      background-color: #434B5C;\n",
              "      box-shadow: 0px 1px 3px 1px rgba(0, 0, 0, 0.15);\n",
              "      filter: drop-shadow(0px 1px 2px rgba(0, 0, 0, 0.3));\n",
              "      fill: #FFFFFF;\n",
              "    }\n",
              "  </style>\n",
              "\n",
              "      <script>\n",
              "        const buttonEl =\n",
              "          document.querySelector('#df-be3b8e5d-637b-44ec-b77f-83e4feb9105b button.colab-df-convert');\n",
              "        buttonEl.style.display =\n",
              "          google.colab.kernel.accessAllowed ? 'block' : 'none';\n",
              "\n",
              "        async function convertToInteractive(key) {\n",
              "          const element = document.querySelector('#df-be3b8e5d-637b-44ec-b77f-83e4feb9105b');\n",
              "          const dataTable =\n",
              "            await google.colab.kernel.invokeFunction('convertToInteractive',\n",
              "                                                     [key], {});\n",
              "          if (!dataTable) return;\n",
              "\n",
              "          const docLinkHtml = 'Like what you see? Visit the ' +\n",
              "            '<a target=\"_blank\" href=https://colab.research.google.com/notebooks/data_table.ipynb>data table notebook</a>'\n",
              "            + ' to learn more about interactive tables.';\n",
              "          element.innerHTML = '';\n",
              "          dataTable['output_type'] = 'display_data';\n",
              "          await google.colab.output.renderOutput(dataTable, element);\n",
              "          const docLink = document.createElement('div');\n",
              "          docLink.innerHTML = docLinkHtml;\n",
              "          element.appendChild(docLink);\n",
              "        }\n",
              "      </script>\n",
              "    </div>\n",
              "  </div>\n",
              "  "
            ]
          },
          "metadata": {},
          "execution_count": 3
        }
      ]
    },
    {
      "cell_type": "code",
      "source": [
        "data.shape"
      ],
      "metadata": {
        "colab": {
          "base_uri": "https://localhost:8080/"
        },
        "id": "3E6bSvIjWEBg",
        "outputId": "eff92788-6f19-4e8f-a7a4-79d64df86228"
      },
      "execution_count": null,
      "outputs": [
        {
          "output_type": "execute_result",
          "data": {
            "text/plain": [
              "(10000, 2)"
            ]
          },
          "metadata": {},
          "execution_count": 4
        }
      ]
    },
    {
      "cell_type": "code",
      "source": [
        "data[data[\"label\"]==1]['text'].values[10:20]"
      ],
      "metadata": {
        "colab": {
          "base_uri": "https://localhost:8080/"
        },
        "id": "AS1jACWPWIMP",
        "outputId": "10844d3b-6af0-485a-abbe-ec76956e1c92"
      },
      "execution_count": null,
      "outputs": [
        {
          "output_type": "execute_result",
          "data": {
            "text/plain": [
              "array(['the bland outweighs the nifty , and cletis tout never becomes the clever crime comedy it thinks it is . ',\n",
              "       'directed by david twohy with the same great eye for eerie understatement that he brought to pitch black . ',\n",
              "       \"it's a very tasteful rock and roll movie . you could put it on a coffee table anywhere . \",\n",
              "       \"provides the kind of 'laugh therapy' i need from movie comedies -- offbeat humor , amusing characters , and a happy ending . after seeing 'analyze that , ' i feel better already . \",\n",
              "       'worth a look by those on both sides of the issues , if only for the perspective it offers , one the public rarely sees . ',\n",
              "       'watching the film is like reading a times portrait of grief that keeps shifting focus to the journalist who wrote it . ',\n",
              "       'despite these annoyances , the capable clayburgh and tambor really do a great job of anchoring the characters in the emotional realities of middle age . ',\n",
              "       \"it's a good thing that woolly mammoths are extinct , because this movie will have every kid in the schoolyard wishing for their very own . \",\n",
              "       'preposterous and tedious , sonny is spiked with unintentional laughter that , unfortunately , occurs too infrequently to make the film even a guilty pleasure . ',\n",
              "       '4ever has the same sledgehammer appeal as pokemon videos , but it breathes more on the big screen and induces headaches more slowly . '],\n",
              "      dtype=object)"
            ]
          },
          "metadata": {},
          "execution_count": 13
        }
      ]
    },
    {
      "cell_type": "code",
      "source": [
        "data[data[\"label\"]==0]['text'].values[0:10]"
      ],
      "metadata": {
        "colab": {
          "base_uri": "https://localhost:8080/"
        },
        "id": "YBB-Yk7IXD8U",
        "outputId": "1ce1d3ed-6421-4221-db89-a28d3eedeace"
      },
      "execution_count": null,
      "outputs": [
        {
          "output_type": "execute_result",
          "data": {
            "text/plain": [
              "array(['the movie begins in the past where a young boy named sam attempts to save celebi from a hunter . ',\n",
              "       'emerging from the human psyche and showing characteristics of abstract expressionism , minimalism and russian constructivism , graffiti removal has secured its place in the history of modern art while being created by artists who are unconscious of their artistic achievements . ',\n",
              "       \"spurning her mother's insistence that she get on with her life , mary is thrown out of the house , rejected by joe , and expelled from school as she grows larger with child . \",\n",
              "       \"amitabh can't believe the board of directors and his mind is filled with revenge and what better revenge than robbing the bank himself , ironic as it may sound . \",\n",
              "       'she , among others excentricities , talks to a small rock , gertrude , like if she was alive . ',\n",
              "       'this gives the girls a fair chance of pulling the wool over their eyes using their sexiness to poach any last vestige of common sense the dons might have had . ',\n",
              "       'styled after vh1\\'s \" behind the music , \" this mockumentary profiles the rise and fall of an internet startup , called icevan . com . ',\n",
              "       'being blue is not his only predicament ; he also lacks the ability to outwardly express his emotions . ',\n",
              "       \"the killer's clues are a perversion of biblical punishments for sins : stoning , burning , decapitation . \",\n",
              "       \"david is a painter with painter's block who takes a job as a waiter to get some inspiration . \"],\n",
              "      dtype=object)"
            ]
          },
          "metadata": {},
          "execution_count": 10
        }
      ]
    },
    {
      "cell_type": "markdown",
      "source": [
        "## 3.2"
      ],
      "metadata": {
        "id": "YPaQjfn_XZ_V"
      }
    },
    {
      "cell_type": "code",
      "source": [
        "from sklearn.model_selection import train_test_split\n",
        "X = data[\"text\"].values\n",
        "Y = data['label'].values\n",
        "\n",
        "X_train, X_test, Y_train, Y_test = train_test_split(X, Y, test_size = 0.2, shuffle=True, random_state=1,stratify=Y)\n",
        "X_train, X_val, Y_train, Y_val = train_test_split(X_train, Y_train, test_size=0.2, shuffle=True, random_state=1, stratify=Y_train)"
      ],
      "metadata": {
        "id": "MaTpnvzOXbkm"
      },
      "execution_count": null,
      "outputs": []
    },
    {
      "cell_type": "code",
      "source": [
        "print(np.unique(Y_train,return_counts=True))\n",
        "print(np.unique(Y_val, return_counts=True))\n",
        "print(np.unique(Y_test, return_counts=True))"
      ],
      "metadata": {
        "colab": {
          "base_uri": "https://localhost:8080/"
        },
        "id": "KQPPUGJkZGva",
        "outputId": "70d08540-428e-4d94-a48d-27e27dfa7bcd"
      },
      "execution_count": null,
      "outputs": [
        {
          "output_type": "stream",
          "name": "stdout",
          "text": [
            "(array([0, 1]), array([3200, 3200]))\n",
            "(array([0, 1]), array([800, 800]))\n",
            "(array([0, 1]), array([1000, 1000]))\n"
          ]
        }
      ]
    },
    {
      "cell_type": "code",
      "source": [
        "duplicate = 0\n",
        "for i in X_train:\n",
        "  if i in X_val or i in X_test:\n",
        "    print(\"same sample!!!\", i)\n",
        "    duplicate += 1\n",
        "if duplicate == 0:\n",
        "  print(\"No same sample in more than one set\")"
      ],
      "metadata": {
        "id": "L9njitDngOGP",
        "colab": {
          "base_uri": "https://localhost:8080/"
        },
        "outputId": "8a5bf2f0-2d50-4fa7-cad4-0670ca997f74"
      },
      "execution_count": null,
      "outputs": [
        {
          "output_type": "stream",
          "name": "stdout",
          "text": [
            "No same sample in more than one set\n"
          ]
        }
      ]
    },
    {
      "cell_type": "code",
      "source": [
        "train = pd.DataFrame(X_train, columns=['text'])\n",
        "train['label'] = Y_train\n",
        "val = pd.DataFrame(X_val, columns=['text'])\n",
        "val['label'] = Y_val\n",
        "test = pd.DataFrame(X_test, columns=['text'])\n",
        "test['label'] = Y_test"
      ],
      "metadata": {
        "id": "QzbxL9flc6t0"
      },
      "execution_count": null,
      "outputs": []
    },
    {
      "cell_type": "code",
      "source": [
        "subset_data_0 = data[data['label']==0][0:25]\n",
        "subset_data_1 = data[data['label']==1][0:25]\n",
        "subset_data = pd.concat([subset_data_0, subset_data_1], ignore_index=True)\n",
        "np.unique(subset_data['label'].values,return_counts=True)"
      ],
      "metadata": {
        "colab": {
          "base_uri": "https://localhost:8080/"
        },
        "id": "-prFhbUpcXTg",
        "outputId": "fc8db68b-5182-4ce1-fa78-de89b8cf049f"
      },
      "execution_count": null,
      "outputs": [
        {
          "output_type": "execute_result",
          "data": {
            "text/plain": [
              "(array([0, 1]), array([25, 25]))"
            ]
          },
          "metadata": {},
          "execution_count": 18
        }
      ]
    },
    {
      "cell_type": "code",
      "source": [
        "train.to_csv('train.tsv', sep='\\t')\n",
        "val.to_csv('validation.tsv', sep='\\t')\n",
        "test.to_csv('test.tsv', sep='\\t')\n",
        "subset_data.to_csv('overfit.tsv', sep='\\t')"
      ],
      "metadata": {
        "id": "1p-LxXPTfjX_"
      },
      "execution_count": null,
      "outputs": []
    },
    {
      "cell_type": "markdown",
      "source": [
        "## 3.3"
      ],
      "metadata": {
        "id": "EWwVRCzOgo1D"
      }
    },
    {
      "cell_type": "code",
      "execution_count": null,
      "metadata": {
        "id": "N-C27CnuiIQF"
      },
      "outputs": [],
      "source": [
        "# TextDataset is Described in Section 3.3 of Assignment 2\n",
        "\n",
        "class TextDataset(torch.utils.data.Dataset):\n",
        "    def __init__(self, vocab, split=\"train\"):\n",
        "        df = pd.read_csv(f\"{split}.tsv\", sep=\"\\t\")\n",
        "\n",
        "        # X: torch.tensor (maxlen, batch_size), padded indices\n",
        "        # Y: torch.tensor of len N\n",
        "        X, Y = [], []\n",
        "        V = len(vocab.vectors)\n",
        "        for i, row in df.iterrows():\n",
        "            L = row[\"text\"].split()\n",
        "            X.append(torch.tensor([vocab.stoi.get(w, V-1) for w in L]))  # Use the last word in the vocab as the \"out-of-vocabulary\" token\n",
        "            Y.append(row.label)\n",
        "        self.X = X \n",
        "        self.Y = torch.tensor(Y)\n",
        "        \n",
        "    def __len__(self):\n",
        "        return len(self.X)\n",
        "\n",
        "    def __getitem__(self, idx):\n",
        "        return self.X[idx], self.Y[idx] \n",
        "    \n",
        "# my_collate_function prepares batches\n",
        "# it also pads each batch with zeroes.\n",
        "\n",
        "def my_collate_function(batch, device):\n",
        "    # Handle the padding here\n",
        "    # batch is approximately: [dataset[i] for i in range(0, batch_size)]\n",
        "    # Since the dataset[i]'s contents is defined in the __getitem__() above, this collate function \n",
        "    # should be set correspondingly.\n",
        "    # Also: collate_function just takes one argument. To pass in additional arguments (e.g., device), \n",
        "    # we need to wrap up an anonymous function (using lambda below)\n",
        "    batch_x, batch_y = [], []\n",
        "    max_len = 0\n",
        "    for x,y in batch:\n",
        "        batch_y.append(y)\n",
        "        max_len = max(max_len, len(x))\n",
        "    for x,y in batch:\n",
        "        x_p = torch.concat(\n",
        "            [x, torch.zeros(max_len - len(x))]\n",
        "        )\n",
        "        batch_x.append(x_p)\n",
        "    return torch.stack(batch_x).t().int().to(device), torch.tensor(batch_y).to(device)\n",
        "\n",
        "def get_accuracy(model, dataloader, device):\n",
        "  correct = 0\n",
        "  total = 0\n",
        "  for text, label in dataloader:\n",
        "    text.to(device)\n",
        "    label.to(device)\n",
        "    out = model(text)\n",
        "    pred = (out>0.0).squeeze().long() == label\n",
        "    correct += int(sum(pred))\n",
        "    #correct += pred.eq(label.view_as(pred)).sum().item()\n",
        "    total += label.shape[0]\n",
        "  return correct/total\n",
        "\n",
        "\n",
        "def main(args):\n",
        "    #   fix seed\n",
        "    torch.manual_seed(2)\n",
        "\n",
        "    device = torch.device('cuda' if torch.cuda.is_available() else 'cpu')\n",
        "    print (\"Using device:\", device)\n",
        "\n",
        "    ### 3.3 Processing of the data ###\n",
        "    # 3.3.1\n",
        "    # The first time you run this will download a 862MB size file to .vector_cache/glove.6B.zip\n",
        "    glove = torchtext.vocab.GloVe(name=\"6B\",dim=100) # embedding size = 100\n",
        "                                   \n",
        "    # 3.3.2\n",
        "    if args.overfit:\n",
        "      train_dataset = TextDataset(glove, \"overfit\")\n",
        "    else:\n",
        "      train_dataset = TextDataset(glove, \"train\")\n",
        "    val_dataset = TextDataset(glove, \"validation\")\n",
        "    test_dataset = TextDataset(glove, \"test\")\n",
        "        \n",
        "    # 3.3.3\n",
        "    train_dataloader = torch.utils.data.DataLoader(\n",
        "        dataset=train_dataset, \n",
        "        batch_size=args.batch_size, \n",
        "        shuffle=False, \n",
        "        collate_fn=lambda batch: my_collate_function(batch, device))\n",
        "\n",
        "    validation_dataloader = torch.utils.data.DataLoader(\n",
        "        dataset=val_dataset, \n",
        "        batch_size=args.batch_size, \n",
        "        shuffle=False, \n",
        "        collate_fn=lambda batch: my_collate_function(batch, device))\n",
        "\n",
        "    test_dataloader = torch.utils.data.DataLoader(\n",
        "        dataset=test_dataset,\n",
        "        batch_size=args.batch_size,\n",
        "        shuffle=False,\n",
        "        collate_fn=lambda batch: my_collate_function(batch, device))\n",
        "\n",
        "    # Instantiate your model(s) and train them and so on \n",
        "    # We suggest parameterizing the model - k1, n1, k2, n2, and other hyperparameters\n",
        "    # so that it is easier to experiment with\n",
        "    model = Baseline_Model(glove)\n",
        "    model.to(device)\n",
        "    optimizer = torch.optim.Adam(model.parameters(), lr= args.learning_rate)\n",
        "    criterion = torch.nn.BCEWithLogitsLoss()\n",
        "\n",
        "    epoches, train_loss, val_loss, train_acc, val_acc = [], [], [], [], []\n",
        "\n",
        "    for epoch in range(args.num_epoch):\n",
        "      total_train_loss = 0\n",
        "      for text, label in train_dataloader:\n",
        "        text.to(device)\n",
        "        label.to(device)\n",
        "\n",
        "        out = model(text)\n",
        "        loss = criterion(out, label.float())\n",
        "        total_train_loss += loss.item()\n",
        "        optimizer.zero_grad()\n",
        "        loss.backward()\n",
        "        optimizer.step()\n",
        "      \n",
        "      epoches.append(epoch+1)\n",
        "      train_loss.append(total_train_loss/len(train_dataloader))\n",
        "      train_acc.append(get_accuracy(model, train_dataloader, device))\n",
        "      \n",
        "      ### Validation loss\n",
        "      total_val_loss = 0\n",
        "      for text2, label2 in validation_dataloader:\n",
        "        text2.to(device)\n",
        "        label2.to(device)\n",
        "        out2 = model(text2)\n",
        "\n",
        "        loss2 = criterion(out2, label2.float())\n",
        "        total_val_loss += loss2.item()\n",
        "      val_loss.append(float(total_val_loss)/len(validation_dataloader))\n",
        "      val_acc.append(get_accuracy(model, validation_dataloader, device))\n",
        "\n",
        "      print(\"This is epoch {} with training loss {} and validation loss {} and train accuracy {} and validation accuracy {}\".format(epoch+1, train_loss[-1], \n",
        "                                                                                                                                    val_loss[-1], train_acc[-1], val_acc[-1]))\n",
        "    \n",
        "    if args.save:\n",
        "      torch.save(model.state_dict(), \"model_baseline.pt\")\n",
        "\n",
        "    plt.title(\"Training Curve - Loss\")\n",
        "    plt.plot(epoches, train_loss, label=\"Train\")\n",
        "    plt.plot(epoches, val_loss, label=\"Validation\")\n",
        "    plt.xlabel(\"Epoch\")\n",
        "    plt.ylabel(\"Training Loss\")\n",
        "    plt.legend(loc='best')\n",
        "    plt.show()\n",
        "\n",
        "    plt.title(\"Training Curve - Accuracy\")\n",
        "    plt.plot(epoches, train_acc, label=\"Train\")\n",
        "    plt.plot(epoches, val_acc, label=\"Validation\")\n",
        "    plt.xlabel(\"Epoch\")\n",
        "    plt.ylabel(\"Training Accuracy\")\n",
        "    plt.legend(loc='best')\n",
        "    plt.show()    \n",
        "\n",
        "    return model"
      ]
    },
    {
      "cell_type": "code",
      "source": [
        "class Baseline_Model(torch.nn.Module):\n",
        "  def __init__(self, vocab):\n",
        "    super().__init__()\n",
        "\n",
        "    self.embedding = torch.nn.Embedding.from_pretrained(vocab.vectors)\n",
        "    self.fc = torch.nn.Linear(100, 1)\n",
        "\n",
        "  def forward(self, x):\n",
        "    e = self.embedding(x)\n",
        "    out = torch.mean(e, 0).unsqueeze(0)\n",
        "    out = self.fc(out).squeeze()\n",
        "    return out"
      ],
      "metadata": {
        "id": "BHPHAP8rCxjI"
      },
      "execution_count": null,
      "outputs": []
    },
    {
      "cell_type": "markdown",
      "source": [
        "## 4"
      ],
      "metadata": {
        "id": "7YqjqunYiNAm"
      }
    },
    {
      "cell_type": "code",
      "source": [
        "class AttrDict(dict):\n",
        "    def __init__(self, *args, **kwargs):\n",
        "        super(AttrDict, self).__init__(*args, **kwargs)\n",
        "        self.__dict__ = self"
      ],
      "metadata": {
        "id": "fk6Elhr8DE1_"
      },
      "execution_count": null,
      "outputs": []
    },
    {
      "cell_type": "code",
      "source": [
        "args = AttrDict()\n",
        "args_dict = {'emb_dim': 100,\n",
        "             'batch_size':50, \n",
        "             'learning_rate':0.03,\n",
        "             'num_epoch':30,\n",
        "             'overfit':True,\n",
        "             'save':False}\n",
        "args.update(args_dict)\n",
        "\n",
        "main(args)"
      ],
      "metadata": {
        "id": "Mx5aibAV5qVR",
        "colab": {
          "base_uri": "https://localhost:8080/",
          "height": 1000
        },
        "outputId": "09117ed1-84dd-40bc-ebe1-bc7caac1cfd0"
      },
      "execution_count": null,
      "outputs": [
        {
          "output_type": "stream",
          "name": "stdout",
          "text": [
            "Using device: cpu\n",
            "This is epoch 1 with training loss 0.7086145877838135 and validation loss 0.7518580630421638 and train accuracy 0.5 and validation accuracy 0.5\n",
            "This is epoch 2 with training loss 0.7446480393409729 and validation loss 0.6976978145539761 and train accuracy 0.5 and validation accuracy 0.5\n",
            "This is epoch 3 with training loss 0.6961432099342346 and validation loss 0.6952345762401819 and train accuracy 0.5 and validation accuracy 0.5\n",
            "This is epoch 4 with training loss 0.6952371001243591 and validation loss 0.7052741125226021 and train accuracy 0.5 and validation accuracy 0.5\n",
            "This is epoch 5 with training loss 0.7032758593559265 and validation loss 0.6896629799157381 and train accuracy 0.5 and validation accuracy 0.5\n",
            "This is epoch 6 with training loss 0.685752809047699 and validation loss 0.6745005548000336 and train accuracy 0.72 and validation accuracy 0.71125\n",
            "This is epoch 7 with training loss 0.6673960089683533 and validation loss 0.6768344230949879 and train accuracy 0.54 and validation accuracy 0.515\n",
            "This is epoch 8 with training loss 0.6647159457206726 and validation loss 0.6831134501844645 and train accuracy 0.5 and validation accuracy 0.5025\n",
            "This is epoch 9 with training loss 0.6665370464324951 and validation loss 0.6771150939166546 and train accuracy 0.52 and validation accuracy 0.51125\n",
            "This is epoch 10 with training loss 0.6586825847625732 and validation loss 0.6631425973027945 and train accuracy 0.64 and validation accuracy 0.555625\n",
            "This is epoch 11 with training loss 0.6448826789855957 and validation loss 0.6533503793179989 and train accuracy 0.82 and validation accuracy 0.7825\n",
            "This is epoch 12 with training loss 0.6355544328689575 and validation loss 0.6513226181268692 and train accuracy 0.74 and validation accuracy 0.661875\n",
            "This is epoch 13 with training loss 0.6330970525741577 and validation loss 0.6500956490635872 and train accuracy 0.66 and validation accuracy 0.610625\n",
            "This is epoch 14 with training loss 0.6304711699485779 and validation loss 0.6443446334451437 and train accuracy 0.74 and validation accuracy 0.649375\n",
            "This is epoch 15 with training loss 0.6225996613502502 and validation loss 0.6370570156723261 and train accuracy 0.8 and validation accuracy 0.773125\n",
            "This is epoch 16 with training loss 0.6124023199081421 and validation loss 0.6335195917636156 and train accuracy 0.86 and validation accuracy 0.7475\n",
            "This is epoch 17 with training loss 0.605180025100708 and validation loss 0.6337234564125538 and train accuracy 0.76 and validation accuracy 0.648125\n",
            "This is epoch 18 with training loss 0.6015939116477966 and validation loss 0.6326209455728531 and train accuracy 0.74 and validation accuracy 0.628125\n",
            "This is epoch 19 with training loss 0.5976558923721313 and validation loss 0.6270601321011782 and train accuracy 0.78 and validation accuracy 0.648125\n",
            "This is epoch 20 with training loss 0.5907450318336487 and validation loss 0.619207825511694 and train accuracy 0.82 and validation accuracy 0.721875\n",
            "This is epoch 21 with training loss 0.5826417803764343 and validation loss 0.6129928361624479 and train accuracy 0.82 and validation accuracy 0.81375\n",
            "This is epoch 22 with training loss 0.5764074325561523 and validation loss 0.6093838643282652 and train accuracy 0.84 and validation accuracy 0.800625\n",
            "This is epoch 23 with training loss 0.572310209274292 and validation loss 0.6062270812690258 and train accuracy 0.8 and validation accuracy 0.784375\n",
            "This is epoch 24 with training loss 0.5679389834403992 and validation loss 0.602034904062748 and train accuracy 0.84 and validation accuracy 0.800625\n",
            "This is epoch 25 with training loss 0.561804473400116 and validation loss 0.5979236401617527 and train accuracy 0.84 and validation accuracy 0.821875\n",
            "This is epoch 26 with training loss 0.5550966858863831 and validation loss 0.5954690389335155 and train accuracy 0.88 and validation accuracy 0.785\n",
            "This is epoch 27 with training loss 0.5496559739112854 and validation loss 0.5940951257944107 and train accuracy 0.86 and validation accuracy 0.741875\n",
            "This is epoch 28 with training loss 0.5454727411270142 and validation loss 0.5916513074189425 and train accuracy 0.82 and validation accuracy 0.731875\n",
            "This is epoch 29 with training loss 0.5410070419311523 and validation loss 0.5871618743985891 and train accuracy 0.86 and validation accuracy 0.75\n",
            "This is epoch 30 with training loss 0.5354936718940735 and validation loss 0.5818374548107386 and train accuracy 0.88 and validation accuracy 0.794375\n"
          ]
        },
        {
          "output_type": "display_data",
          "data": {
            "text/plain": [
              "<Figure size 432x288 with 1 Axes>"
            ],
            "image/png": "[encoded data removed]"
          },
          "metadata": {
            "needs_background": "light"
          }
        },
        {
          "output_type": "display_data",
          "data": {
            "text/plain": [
              "<Figure size 432x288 with 1 Axes>"
            ],
            "image/png": "[encoded data removed]"
          },
          "metadata": {
            "needs_background": "light"
          }
        },
        {
          "output_type": "execute_result",
          "data": {
            "text/plain": [
              "Baseline_Model(\n",
              "  (embedding): Embedding(400000, 100)\n",
              "  (fc): Linear(in_features=100, out_features=1, bias=True)\n",
              ")"
            ]
          },
          "metadata": {},
          "execution_count": 26
        }
      ]
    },
    {
      "cell_type": "code",
      "source": [
        "args = AttrDict()\n",
        "args_dict = {'emb_dim': 100,\n",
        "             'batch_size':20, \n",
        "             'learning_rate':0.001,\n",
        "             'num_epoch':50,\n",
        "             'overfit':False,\n",
        "             'save':True}\n",
        "args.update(args_dict)\n",
        "\n",
        "model = main(args)"
      ],
      "metadata": {
        "colab": {
          "base_uri": "https://localhost:8080/",
          "height": 1000
        },
        "id": "Fws143P_TAUN",
        "outputId": "4f3f25a2-2939-4cdd-ce42-14d5550200ea"
      },
      "execution_count": null,
      "outputs": [
        {
          "output_type": "stream",
          "name": "stdout",
          "text": [
            "Using device: cpu\n",
            "This is epoch 1 with training loss 0.6749776130542159 and validation loss 0.6502295479178428 and train accuracy 0.7296875 and validation accuracy 0.74375\n",
            "This is epoch 2 with training loss 0.6307754762470722 and validation loss 0.6101225771009922 and train accuracy 0.7871875 and validation accuracy 0.79625\n",
            "This is epoch 3 with training loss 0.5945849573239684 and validation loss 0.5770035095512867 and train accuracy 0.814375 and validation accuracy 0.819375\n",
            "This is epoch 4 with training loss 0.5643305416218937 and validation loss 0.5492545627057552 and train accuracy 0.82703125 and validation accuracy 0.8325\n",
            "This is epoch 5 with training loss 0.5387403935194015 and validation loss 0.525753504037857 and train accuracy 0.83546875 and validation accuracy 0.840625\n",
            "This is epoch 6 with training loss 0.5168794937431812 and validation loss 0.5056615527719259 and train accuracy 0.84296875 and validation accuracy 0.845\n",
            "This is epoch 7 with training loss 0.4980329105630517 and validation loss 0.488336531445384 and train accuracy 0.84703125 and validation accuracy 0.8475\n",
            "This is epoch 8 with training loss 0.4816474708728492 and validation loss 0.47328117974102496 and train accuracy 0.850625 and validation accuracy 0.85\n",
            "This is epoch 9 with training loss 0.4672918821685016 and validation loss 0.46010670997202396 and train accuracy 0.85375 and validation accuracy 0.850625\n",
            "This is epoch 10 with training loss 0.4546271859668195 and validation loss 0.44850598499178884 and train accuracy 0.85625 and validation accuracy 0.853125\n",
            "This is epoch 11 with training loss 0.44338428089395165 and validation loss 0.43823357075452807 and train accuracy 0.8584375 and validation accuracy 0.856875\n",
            "This is epoch 12 with training loss 0.43334721038118007 and validation loss 0.42909120917320254 and train accuracy 0.85953125 and validation accuracy 0.856875\n",
            "This is epoch 13 with training loss 0.424340848159045 and validation loss 0.420916998013854 and train accuracy 0.86015625 and validation accuracy 0.8575\n",
            "This is epoch 14 with training loss 0.4162216708995402 and validation loss 0.41357733570039273 and train accuracy 0.8615625 and validation accuracy 0.858125\n",
            "This is epoch 15 with training loss 0.40887086717411875 and validation loss 0.40696100480854513 and train accuracy 0.86265625 and validation accuracy 0.860625\n",
            "This is epoch 16 with training loss 0.402189201163128 and validation loss 0.4009745877236128 and train accuracy 0.8634375 and validation accuracy 0.86\n",
            "This is epoch 17 with training loss 0.3960931295063347 and validation loss 0.39553912840783595 and train accuracy 0.86515625 and validation accuracy 0.861875\n",
            "This is epoch 18 with training loss 0.39051178889349103 and validation loss 0.3905873643234372 and train accuracy 0.86671875 and validation accuracy 0.8625\n",
            "This is epoch 19 with training loss 0.3853846945334226 and validation loss 0.38606182895600794 and train accuracy 0.86671875 and validation accuracy 0.86375\n",
            "This is epoch 20 with training loss 0.3806599859148264 and validation loss 0.38191312458366156 and train accuracy 0.86734375 and validation accuracy 0.864375\n",
            "This is epoch 21 with training loss 0.37629298502579334 and validation loss 0.3780986377969384 and train accuracy 0.86796875 and validation accuracy 0.864375\n",
            "This is epoch 22 with training loss 0.3722449940629303 and validation loss 0.3745814563706517 and train accuracy 0.86890625 and validation accuracy 0.865\n",
            "This is epoch 23 with training loss 0.3684824113268405 and validation loss 0.37132958583533765 and train accuracy 0.86859375 and validation accuracy 0.86625\n",
            "This is epoch 24 with training loss 0.36497598625719546 and validation loss 0.3683151131495833 and train accuracy 0.86859375 and validation accuracy 0.866875\n",
            "This is epoch 25 with training loss 0.3617001370061189 and validation loss 0.3655137099325657 and train accuracy 0.86921875 and validation accuracy 0.86625\n",
            "This is epoch 26 with training loss 0.3586324168834835 and validation loss 0.3629040839150548 and train accuracy 0.86984375 and validation accuracy 0.868125\n",
            "This is epoch 27 with training loss 0.35575315160676835 and validation loss 0.3604675203561783 and train accuracy 0.8703125 and validation accuracy 0.866875\n",
            "This is epoch 28 with training loss 0.35304495370946826 and validation loss 0.358187554590404 and train accuracy 0.8709375 and validation accuracy 0.868125\n",
            "This is epoch 29 with training loss 0.3504924888256937 and validation loss 0.35604971665889024 and train accuracy 0.87171875 and validation accuracy 0.869375\n",
            "This is epoch 30 with training loss 0.3480821805074811 and validation loss 0.35404118690639735 and train accuracy 0.8721875 and validation accuracy 0.87125\n",
            "This is epoch 31 with training loss 0.345801943866536 and validation loss 0.3521505404263735 and train accuracy 0.87375 and validation accuracy 0.871875\n",
            "This is epoch 32 with training loss 0.34364098561927675 and validation loss 0.35036769453436134 and train accuracy 0.87453125 and validation accuracy 0.871875\n",
            "This is epoch 33 with training loss 0.3415897259023041 and validation loss 0.3486836554482579 and train accuracy 0.874375 and validation accuracy 0.8725\n",
            "This is epoch 34 with training loss 0.33963956027291714 and validation loss 0.34709035120904447 and train accuracy 0.874375 and validation accuracy 0.871875\n",
            "This is epoch 35 with training loss 0.33778275372460487 and validation loss 0.3455805815756321 and train accuracy 0.87390625 and validation accuracy 0.873125\n",
            "This is epoch 36 with training loss 0.33601235956884923 and validation loss 0.3441478569060564 and train accuracy 0.87421875 and validation accuracy 0.874375\n",
            "This is epoch 37 with training loss 0.3343221155926585 and validation loss 0.3427863912656903 and train accuracy 0.874375 and validation accuracy 0.875\n",
            "This is epoch 38 with training loss 0.3327063419856131 and validation loss 0.34149089697748425 and train accuracy 0.8746875 and validation accuracy 0.87625\n",
            "This is epoch 39 with training loss 0.33115991675294937 and validation loss 0.34025664515793325 and train accuracy 0.87484375 and validation accuracy 0.87625\n",
            "This is epoch 40 with training loss 0.32967815701849756 and validation loss 0.3390792917460203 and train accuracy 0.8753125 and validation accuracy 0.876875\n",
            "This is epoch 41 with training loss 0.32825680570676924 and validation loss 0.337954924441874 and train accuracy 0.875625 and validation accuracy 0.876875\n",
            "This is epoch 42 with training loss 0.3268919872120023 and validation loss 0.33688004277646544 and train accuracy 0.87609375 and validation accuracy 0.876875\n",
            "This is epoch 43 with training loss 0.3255801557097584 and validation loss 0.33585132118314504 and train accuracy 0.87625 and validation accuracy 0.876875\n",
            "This is epoch 44 with training loss 0.32431806437671185 and validation loss 0.33486587163060905 and train accuracy 0.876875 and validation accuracy 0.8775\n",
            "This is epoch 45 with training loss 0.3231027338653803 and validation loss 0.3339209116995335 and train accuracy 0.876875 and validation accuracy 0.876875\n",
            "This is epoch 46 with training loss 0.3219314218033105 and validation loss 0.33301398921757935 and train accuracy 0.8771875 and validation accuracy 0.8775\n",
            "This is epoch 47 with training loss 0.3208015966229141 and validation loss 0.3321427570655942 and train accuracy 0.876875 and validation accuracy 0.878125\n",
            "This is epoch 48 with training loss 0.31971091697923837 and validation loss 0.3313051613047719 and train accuracy 0.8771875 and validation accuracy 0.87875\n",
            "This is epoch 49 with training loss 0.3186572364997119 and validation loss 0.3304992213845253 and train accuracy 0.87734375 and validation accuracy 0.87875\n",
            "This is epoch 50 with training loss 0.3176385625032708 and validation loss 0.32972318064421413 and train accuracy 0.87734375 and validation accuracy 0.88\n"
          ]
        },
        {
          "output_type": "display_data",
          "data": {
            "text/plain": [
              "<Figure size 432x288 with 1 Axes>"
            ],
            "image/png": "[encoded data removed]"
          },
          "metadata": {
            "needs_background": "light"
          }
        },
        {
          "output_type": "display_data",
          "data": {
            "text/plain": [
              "<Figure size 432x288 with 1 Axes>"
            ],
            "image/png": "[encoded data removed]"
          },
          "metadata": {
            "needs_background": "light"
          }
        }
      ]
    },
    {
      "cell_type": "code",
      "source": [
        "torch.manual_seed(2)\n",
        "\n",
        "device = torch.device('cuda' if torch.cuda.is_available() else 'cpu')\n",
        "print (\"Using device:\", device)\n",
        "\n",
        "glove = torchtext.vocab.GloVe(name=\"6B\",dim=100) # embedding size = 100\n",
        "                                   \n",
        "test_dataset = TextDataset(glove, \"test\")\n",
        "      \n",
        "test_dataloader = torch.utils.data.DataLoader(\n",
        "        dataset=test_dataset,\n",
        "        batch_size=args.batch_size,\n",
        "        shuffle=False,\n",
        "        collate_fn=lambda batch: my_collate_function(batch, device))\n",
        "model = Baseline_Model(glove)\n",
        "model.load_state_dict(torch.load('model_baseline.pt'))\n",
        "model.eval()\n",
        "  \n",
        "print(\"The test accuracy is {}\".format(get_accuracy(model, test_dataloader, device)))"
      ],
      "metadata": {
        "colab": {
          "base_uri": "https://localhost:8080/"
        },
        "id": "N2EL16W3tudI",
        "outputId": "cccb3604-a496-4448-e76b-30febe1faa59"
      },
      "execution_count": null,
      "outputs": [
        {
          "output_type": "stream",
          "name": "stdout",
          "text": [
            "Using device: cpu\n",
            "The test accuracy is 0.8915\n"
          ]
        }
      ]
    },
    {
      "cell_type": "code",
      "source": [
        "param_list = []\n",
        "for param in model.parameters():\n",
        "  param_list.append(param)"
      ],
      "metadata": {
        "id": "MbjLmLa1xLkq"
      },
      "execution_count": null,
      "outputs": []
    },
    {
      "cell_type": "code",
      "source": [
        "def print_closest_cosine_words(vec, n):\n",
        "  dist = torch.cosine_similarity(glove.vectors, vec, dim=1)\n",
        "  lst = sorted(enumerate(dist.detach().numpy()), key=lambda x:x[1], reverse=True)\n",
        "  for idx, difference in lst[1:n+1]:\n",
        "    print(glove.itos[idx], \"\\t%5.2f\" % difference)"
      ],
      "metadata": {
        "id": "HDxDOv37x5TO"
      },
      "execution_count": null,
      "outputs": []
    },
    {
      "cell_type": "code",
      "source": [
        "print_closest_cosine_words(param_list[1], 20)"
      ],
      "metadata": {
        "colab": {
          "base_uri": "https://localhost:8080/"
        },
        "id": "v8tjj_opyOG2",
        "outputId": "42dc9e64-8928-4125-b6cd-163baef62792"
      },
      "execution_count": null,
      "outputs": [
        {
          "output_type": "stream",
          "name": "stdout",
          "text": [
            "visuals \t 0.57\n",
            "pleasing \t 0.56\n",
            "insipid \t 0.55\n",
            "flattering \t 0.55\n",
            "watchable \t 0.53\n",
            "cheesy \t 0.53\n",
            "campy \t 0.52\n",
            "cartoonish \t 0.51\n",
            "laughable \t 0.51\n",
            "realistic \t 0.51\n",
            "disquieting \t 0.51\n",
            "cartoony \t 0.51\n",
            "underwhelming \t 0.51\n",
            "appetizing \t 0.51\n",
            "engrossing \t 0.50\n",
            "oversimplified \t 0.50\n",
            "nuanced \t 0.50\n",
            "verbiage \t 0.50\n",
            "portentous \t 0.50\n",
            "gimmicky \t 0.50\n"
          ]
        }
      ]
    }
  ]
}